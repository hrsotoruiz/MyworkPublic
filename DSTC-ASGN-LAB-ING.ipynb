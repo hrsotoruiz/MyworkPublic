{
 "cells": [
  {
   "cell_type": "markdown",
   "metadata": {},
   "source": [
    "# Data Science Methodology applied to credit cards"
   ]
  },
  {
   "cell_type": "markdown",
   "metadata": {},
   "source": [
    "### Which topic do we choose to apply the methodology of data science?"
   ]
  },
  {
   "cell_type": "markdown",
   "metadata": {},
   "source": [
    "Select the topic Credit Cards, because it considers that the nature of its operation is totally digital and consequently.\n",
    "\n",
    "You can answer a lot of questions of great interest to companies that accept the payment of goods and services with cards, today not only credit but also debit and electronic purses; In the case of sale / sale."
   ]
  },
  {
   "cell_type": "markdown",
   "metadata": {},
   "source": [
    "<!-- tipo Markdown ![imagen de TC generica!](TC.jpg \"TC generica\") $Credit Card$ \n",
    "<img src=TC.jpg width=200 alt=\"Credit Cards with Chip\" align=\"left\">  -->\n",
    "<img src= hrsotoruiz/MyworkPublic/Issuers.jpg width=200 alt=\"Credit Cards with Chip\" align=\"center\">  \n"
   ]
  },
  {
   "cell_type": "markdown",
   "metadata": {},
   "source": [
    "### Business Understanding"
   ]
  },
  {
   "cell_type": "markdown",
   "metadata": {},
   "source": [
    "#### $Problem$  $Description$"
   ]
  },
  {
   "cell_type": "markdown",
   "metadata": {},
   "source": [
    "A convenience store wants to improve its profits through promotions, but does not know who to direct them to. The goal is to increase your sales by at least 20%, promote your product inventories before your expiration date\n",
    "\n",
    "It is a precedent that 80% of its sales are made with payment by card, 15% in cash and 5% with vouchers. So also their sales amount to twenty million dollars per year."
   ]
  },
  {
   "cell_type": "markdown",
   "metadata": {},
   "source": [
    "#### $Main$  $Premise$"
   ]
  },
  {
   "cell_type": "markdown",
   "metadata": {},
   "source": [
    "How to increase my sales?\n"
   ]
  },
  {
   "cell_type": "markdown",
   "metadata": {},
   "source": [
    "#### $Secondary$ $Premises$"
   ]
  },
  {
   "cell_type": "markdown",
   "metadata": {},
   "source": [
    "1. What kind of cards do I accept?\n",
    "2. How much are sales by credit card?\n",
    "3. Which card issuer generates the most sales?\n",
    "4. Who are my best customers with a credit card?"
   ]
  },
  {
   "cell_type": "markdown",
   "metadata": {},
   "source": [
    "### Analytic Approach"
   ]
  },
  {
   "cell_type": "markdown",
   "metadata": {},
   "source": [
    "Each of the questions defined above has the intent to better understand the behavior of the business as long as we get answers as accurate as possible.\n",
    "\n",
    "We believe that in order to answer each of the questions properly, we can use statistical analysis as a model since it is applied to problems that require counting, as it is the one that concerns us."
   ]
  },
  {
   "cell_type": "markdown",
   "metadata": {},
   "source": [
    "### Data Requirements"
   ]
  },
  {
   "cell_type": "markdown",
   "metadata": {},
   "source": [
    "After analyzing the data with which we have the possibility to access internally, they are the following:\n",
    "\n",
    "- Number of cards masked for security reasons.\n",
    "- Amount of the sale.\n",
    "- Date and time of the transaction.\n",
    "- Authorization number.\n",
    "- Date and time of the authorization.\n",
    "- Identification of the Store.\n",
    "\n",
    "The sizes of the cards will be requested from the bank with which we operate, these are the types of cards they handle, and the markets they are targeting.\n"
   ]
  },
  {
   "cell_type": "markdown",
   "metadata": {},
   "source": [
    "### Data Collection "
   ]
  },
  {
   "cell_type": "markdown",
   "metadata": {},
   "source": [
    "The source of the information will be the internal database of each store linked to the card payments, the card number being the unique key for each sale operation.\n",
    "\n",
    "The operations that should be filtered and that do not interest in the present investigation are those that were made in cash, using vouchers or some other means.\n",
    "\n",
    "The defined period of time to retrieve historical information from card sales is the last six months, taking the last month as the starting month and so on, until reaching six months back.\n",
    "\n",
    "We consider having a high quality of information because it is from a single source and totally digital."
   ]
  },
  {
   "cell_type": "markdown",
   "metadata": {},
   "source": [
    "### Data understanding and Data Preparation"
   ]
  },
  {
   "cell_type": "markdown",
   "metadata": {},
   "source": [
    "From the first delivery of the information we obtained a flat file with the following format:"
   ]
  },
  {
   "cell_type": "markdown",
   "metadata": {},
   "source": [
    "<img src=layoutInfo.jpg width=600 alt=\"Credit Cards with Chip\" align=\"left\">"
   ]
  },
  {
   "cell_type": "markdown",
   "metadata": {},
   "source": [
    "Card Number This field is numeric of 16 positions and for security reasons it is masked from position 7 to position 12.\n",
    "\n",
    "490000XXXXXXXXXX1435\n",
    "\n",
    "Through the information catalogs received from the bank we can know the following:\n",
    "\n",
    "From the first prositions we can identify the issuer of the card of the following form:\n",
    "\n",
    "\n",
    "| Emisor           |Posiciones   |Prefijos    |\n",
    "|:---              |:---:        |:---        |\n",
    "| VISA             | 1           | 4   |\n",
    "| Master Card      | 2           | 51, 52, 53, 54, 55   |\n",
    "| Maestro          | 2           | 50, 56 - 69   |\n",
    "| Dinners Club     | 2           | 36, 38 |\n",
    "| American Express | 2           | 34, 37 |\n",
    "| Discovery        | 2           | 65, 64 |\n",
    "| Dinners Club     | 3           | 300, 301, 302, 303, 304, 305 |\n",
    "| Discovery        | 4           | 6011 |\n",
    "| Discovery        | 6           | 622126 - 622925, 624000 - 626999, 628200 - 628899 |\n",
    "\n",
    "\n",
    "From where we obtained the following general distribution.\n",
    "\n"
   ]
  },
  {
   "cell_type": "markdown",
   "metadata": {},
   "source": [
    "<img src=GrafTxnTC.JPG width=350 alt=\"Credit Cards with Chip\" align=\"center\">  "
   ]
  },
  {
   "cell_type": "markdown",
   "metadata": {},
   "source": [
    "Amount of Sale. It is a numeric field with two decimal places, the minimum purchase was for $\\$ 1.00 dollar and the maximum purchase was for \\$ 1,124.75 dollars. Apatir of this information we obtained the following graph\n"
   ]
  },
  {
   "cell_type": "markdown",
   "metadata": {},
   "source": [
    "<img src=GrafAmntTC.jpg width=450 alt=\"Credit Cards with Chip\" align=\"center\">"
   ]
  },
  {
   "cell_type": "markdown",
   "metadata": {},
   "source": [
    "Date and Time of transaction. This field comes with a general database format, as follows:\n",
    "\n",
    "2018-12-25 09:24:07\n",
    "\n",
    "Athotization Nmber. It is a field of numerical type between 4 and 6 positions, expressed as follows:\n",
    "\n",
    "4253\n",
    "678234\n",
    "\n",
    "\n",
    "Date and Time of athorization. This field comes with a general database format, as follows:\n",
    "\n",
    "2018-12-25 11:39:56\n",
    "\n",
    "Store ID. It is an alphanumeric field of two positions.\n",
    "\n",
    "N1\n",
    "S1\n",
    "E1\n",
    "W1\n",
    "\n",
    "Where the first position is the region (N = north, S = south, E = east, W = west) and the second position is a consecutive\n"
   ]
  },
  {
   "cell_type": "markdown",
   "metadata": {},
   "source": [
    "### Modeling and Evaluation"
   ]
  },
  {
   "cell_type": "markdown",
   "metadata": {},
   "source": [
    "The model meets the needs for which it was created. Here we show the results obtained.\n",
    "\n",
    "From the sales transactions we obtain the origin of the cards where we can see that the Master Card issuer is preponderant in the sales operations with 44%. Followed by Visa with 19%, Dinners, Discovery and Amex have 14%, 11% and 10% respectively.\n",
    "\n"
   ]
  },
  {
   "cell_type": "markdown",
   "metadata": {},
   "source": [
    "<img src=Vntas.jpg width=350 alt=\"Credit Cards with Chip\" align=\"center\">"
   ]
  },
  {
   "cell_type": "markdown",
   "metadata": {},
   "source": [
    "- The sales recorded in the trial period amount to little more than ten million dollars. Proportionally speaking Master card is the card that buys the most for an amount exceeding four million dollars followed by VISA, Dinners, AMEX and Discovery.\n",
    "\n",
    "\n",
    "- After analyzing figures we have that 52% of customers make 2 purchases a day, a little more than 30% make a purchase a day the remaining 18% are buyers of time\n",
    "\n",
    "\n",
    "- It can be seen in the following graph that the hours with the greatest affluence are between noon and four in the afternoon for all card issuers."
   ]
  },
  {
   "cell_type": "markdown",
   "metadata": {},
   "source": [
    "<img src=DistribVtas.jpg width=400 alt=\"Credit Cards with Chip\" align=\"center\">"
   ]
  },
  {
   "cell_type": "markdown",
   "metadata": {},
   "source": [
    "To increase sales from the point of view of the cards you can carry out promotional campaigns to our best customers of Master Card, VISA, Dinners, AMEX and Discovery, promoting a program of awarding points-\n",
    "\n",
    "Another way to improve sales is through the analysis of profit margins in relation to sales. Of course we need more information from other databases.\n",
    "\n",
    "Missing make separate the results of the model by store to validate their behavior individually.\n",
    "\n",
    "It is also necessary to eliminate holidays that offer a different behavior, and separate the analysis of weekends with respect to working days to have more precision.\n",
    "\n",
    "Finally, it is worth mentioning that the present study covers all types of cards since we do not find a significant reason to separate them."
   ]
  }
 ],
 "metadata": {
  "kernelspec": {
   "display_name": "Python 3",
   "language": "python",
   "name": "python3"
  },
  "language_info": {
   "codemirror_mode": {
    "name": "ipython",
    "version": 3
   },
   "file_extension": ".py",
   "mimetype": "text/x-python",
   "name": "python",
   "nbconvert_exporter": "python",
   "pygments_lexer": "ipython3",
   "version": "3.6.6"
  }
 },
 "nbformat": 4,
 "nbformat_minor": 2
}
